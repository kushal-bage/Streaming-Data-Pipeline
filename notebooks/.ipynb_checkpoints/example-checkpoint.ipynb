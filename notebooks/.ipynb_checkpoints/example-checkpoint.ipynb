{
 "cells": [
  {
   "cell_type": "markdown",
   "metadata": {},
   "source": [
    "## **Real Time Data Engineering Projects**"
   ]
  },
  {
   "cell_type": "markdown",
   "metadata": {},
   "source": [
    "> โปรเจกต์นี้ออกแบบมาให้เป็นแนวทางแบบครบวงจร (end-to-end) สำหรับการสร้าง data engineering pipeline ตั้งแต่ขั้นตอน ingestion, streaming, processing ไปจนถึงการจัดเก็บข้อมูล โดยใช้โครงสร้างพื้นฐานที่เน้น real-time processing และ containerized deployment"
   ]
  },
  {
   "cell_type": "markdown",
   "metadata": {},
   "source": [
    "#### **สถาปัตยกรรมระบบ (System Architecture)**\n",
    "\n",
    "มี component หลักดังนี้:\n",
    "\n",
    "- **Data Source**: ดึงข้อมูลจาก API เช่น randomuser.me เพื่อใช้เป็นข้อมูลจำลอง (dummy data) \n",
    "\n",
    "- **Apache Airflow**: ทำหน้าที่ orchestration ของ pipeline และเก็บข้อมูลที่ fetch เข้าไว้ใน PostgreSQL \n",
    "\n",
    "- **Kafka + Zookeeper**: ใช้สำหรับ streaming ข้อมูลจาก PostgreSQL ไปยัง processing engine \n",
    "\n",
    "- **Control Center & Schema Registry**: สำหรับดูแล schema และ monitoring Kafka streams \n",
    "\n",
    "- **Apache Spark**: ใช้ประมวลผลข้อมูล (stream processing) ผ่าน cluster (master/worker nodes) \n",
    "\n",
    "- **Cassandra**: ใช้เก็บข้อมูลหลังผ่านการประมวลผล"
   ]
  },
  {
   "cell_type": "markdown",
   "metadata": {
    "vscode": {
     "languageId": "plaintext"
    }
   },
   "source": [
    "#### **เทคโนโลยีที่ใช้**"
   ]
  },
  {
   "cell_type": "markdown",
   "metadata": {},
   "source": [
    "- Orchestration: Apache Airflow\n",
    "\n",
    "- Streaming: Apache Kafka & Zookeeper\n",
    "\n",
    "- Processing: Apache Spark\n",
    "\n",
    "- Storage: PostgreSQL (ก่อนประมวลผล), Cassandra (หลังประมวลผล)\n",
    "\n",
    "- Containerization: Docker"
   ]
  },
  {
   "cell_type": "markdown",
   "metadata": {},
   "source": [
    "#### 📌 **Kafka พื้นฐาน (สำหรับ Data Engineer)**"
   ]
  },
  {
   "cell_type": "markdown",
   "metadata": {},
   "source": [
    "##### **1. Kafka คืออะไร?**\n",
    "\n",
    "- Kafka = ระบบ distributed event streaming platform\n",
    "  → ใช้สำหรับส่ง, เก็บ และประมวลผลข้อมูลแบบ real-time\n",
    "\n",
    "- มันทำตัวเหมือน message broker (ท่อข้อมูลกลาง)\n",
    "\n",
    "- ใช้กันเยอะในงาน real-time analytics, log streaming, data pipeline"
   ]
  },
  {
   "cell_type": "markdown",
   "metadata": {},
   "source": [
    "##### **2. แนวคิดหลัก (Concepts)**\n",
    "\n",
    "ลองคิดเป็น \"ห้อง chat\" 👇\n",
    "\n",
    "- **Producer** → คนพิมพ์ข้อความ (ส่งข้อมูลเข้าไปใน Kafka)\n",
    "\n",
    "- **Consumer** → คนอ่านข้อความ (ดึงข้อมูลออกมาใช้)\n",
    "\n",
    "- **Topic** → ห้องสนทนา (channel ที่ใช้ส่ง/รับข้อมูล)\n",
    "\n",
    "- **Broker** → Server ของ Kafka ที่เก็บ topic\n",
    "\n",
    "- **Cluster** → กลุ่ม broker หลายๆ ตัว\n",
    "\n",
    "- **Partition** → การแบ่ง topic ออกเป็นส่วนๆ เพื่อ scale (แต่ละ partition คือท่อแยก)\n",
    "\n",
    "- **Offset** → เลขบอกลำดับของ message ใน partition\n",
    "\n",
    "👉 Keyword: Publish–Subscribe system\n",
    "Producer ยิงข้อมูล → Kafka → Consumer อ่านข้อมูล"
   ]
  },
  {
   "cell_type": "markdown",
   "metadata": {},
   "source": [
    "##### **3. Kafka Data Flow**\n",
    "\n",
    "1. Producer สร้าง event → ส่งไปที่ Kafka topic\n",
    "\n",
    "2. Kafka เก็บ event ไว้ใน log แบบ append-only\n",
    "\n",
    "3. Consumer subscribe topic → อ่าน event ตามลำดับ offset\n",
    "\n",
    "4. Data ถูก process หรือส่งต่อไป DB, Data Lake, Dashboard"
   ]
  },
  {
   "cell_type": "markdown",
   "metadata": {},
   "source": [
    "#### **เริ่มต้นโปรเจ็ค**"
   ]
  },
  {
   "cell_type": "markdown",
   "metadata": {
    "vscode": {
     "languageId": "plaintext"
    }
   },
   "source": [
    "ตรวจสอบ version ของ Python และ Spark ที่จาก Docker Container"
   ]
  },
  {
   "cell_type": "code",
   "execution_count": 4,
   "metadata": {},
   "outputs": [
    {
     "name": "stdout",
     "output_type": "stream",
     "text": [
      "Python 3.11.6\n",
      "Welcome to\n",
      "      ____              __\n",
      "     / __/__  ___ _____/ /__\n",
      "    _\\ \\/ _ \\/ _ `/ __/  '_/\n",
      "   /___/ .__/\\_,_/_/ /_/\\_\\   version 3.5.1\n",
      "      /_/\n",
      "                        \n",
      "Using Scala version 2.12.18, OpenJDK 64-Bit Server VM, 11.0.28\n",
      "Branch HEAD\n",
      "Compiled by user heartsavior on 2024-02-15T11:24:58Z\n",
      "Revision fd86f85e181fc2dc0f50a096855acf83a6cc5d9c\n",
      "Url https://github.com/apache/spark\n",
      "Type --help for more information.\n"
     ]
    }
   ],
   "source": [
    "!python3 --version\n",
    "!spark-submit --version"
   ]
  },
  {
   "cell_type": "markdown",
   "metadata": {},
   "source": [
    "#### ดึงค่าจาก API"
   ]
  },
  {
   "cell_type": "code",
   "execution_count": 7,
   "metadata": {},
   "outputs": [],
   "source": [
    "import requests\n",
    "\n",
    "res = requests.get(\"https://randomuser.me/api/\")\n",
    "res = res.json() # แปลงเป็น json\n",
    "res = res['results'][0]"
   ]
  }
 ],
 "metadata": {
  "kernelspec": {
   "display_name": "Python 3 (ipykernel)",
   "language": "python",
   "name": "python3"
  },
  "language_info": {
   "codemirror_mode": {
    "name": "ipython",
    "version": 3
   },
   "file_extension": ".py",
   "mimetype": "text/x-python",
   "name": "python",
   "nbconvert_exporter": "python",
   "pygments_lexer": "ipython3",
   "version": "3.11.6"
  }
 },
 "nbformat": 4,
 "nbformat_minor": 4
}
