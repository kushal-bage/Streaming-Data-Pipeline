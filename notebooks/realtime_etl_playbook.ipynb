{
 "cells": [
  {
   "cell_type": "markdown",
   "id": "4480b2e1",
   "metadata": {},
   "source": [
    "### **แนวทางการจัดการ flow ของ Realtime Streaming**"
   ]
  },
  {
   "cell_type": "markdown",
   "id": "ad0ff4d7",
   "metadata": {},
   "source": [
    "##### 1️⃣ Control Rate ของ Data Input (Kafka / Producer)"
   ]
  },
  {
   "cell_type": "markdown",
   "id": "53bd4d87",
   "metadata": {},
   "source": [
    "- Throttle Producer: อย่าให้ producer ยิงข้อมูลเร็วเกินไป ใช้ `time.sleep()` หรือ queue mechanism\n",
    "\n",
    "- Batch ข้อมูลก่อนส่ง: ถ้ามีข้อมูลจำนวนมากในช่วงสั้น ๆ ให้รวมเป็น batch แล้วส่งทีเดียว ลดจำนวน write request\n",
    "\n",
    "- ใช้ Kafka เป็น Buffer :\n",
    "    \n",
    "    - Kafka ช่วยรองรับ input ที่เร็วเกินไป\n",
    "    \n",
    "    - Spark จะอ่านจาก Kafka ตาม trigger ของมัน → database ไม่โดนกระหน่ำ"
   ]
  },
  {
   "cell_type": "markdown",
   "id": "12d65a56",
   "metadata": {},
   "source": [
    "##### 2️⃣ Control Rate ของ Streaming Job (Spark Structured Streaming)"
   ]
  },
  {
   "cell_type": "markdown",
   "id": "9e93e6a3",
   "metadata": {},
   "source": [
    "- 1.ใช้ Batch Size / Trigger Interval:\n",
    "    \n",
    "    - ปรับจำนวน record ที่ Spark จะดึงมาพร้อมกัน และช่วงเวลาในการเขียนลง Cassandra / Database"
   ]
  },
  {
   "cell_type": "code",
   "execution_count": null,
   "id": "c47c46fc",
   "metadata": {},
   "outputs": [],
   "source": [
    "# การเชื่อมต่อ Cassandra\n",
    "streaming_query = (selection_df.writeStream\n",
    "                   .format(\"org.apache.spark.sql.cassandra\")\n",
    "                   .option(\"checkpointLocation\", \"/tmp/checkpoint\")\n",
    "                   .option(\"keyspace\", \"spark_streams\")\n",
    "                   .option(\"table\", \"created_users\")\n",
    "                   .option(\"spark.cassandra.connection.host\", \"cassandra\")\n",
    "                   .option(\"spark.cassandra.connection.port\", \"9042\")\n",
    "                   .option(\"spark.cassandra.connection.local_dc\", \"datacenter1\")\n",
    "                   .trigger(processingTime=\"10 seconds\")  # แทนรันต่อเนื่องทันที\n",
    "                   .start())"
   ]
  },
  {
   "cell_type": "markdown",
   "id": "46d32fb5",
   "metadata": {},
   "source": [
    "- `processingTime=\"10 seconds\"` → Spark จะสร้าง micro-batch ทุก 10 วินาที\n",
    "\n",
    "- ข้อมูลที่เข้ามาระหว่าง batch จะถูกจัดเก็บใน Kafka จนถึง batch ถัดไป\n",
    "\n",
    "- จะช่วยลดจำนวน write request ต่อวินาที → Cassandra / Database ไม่พัง"
   ]
  },
  {
   "cell_type": "markdown",
   "id": "ff0f1c33",
   "metadata": {},
   "source": [
    "- 2.Backpressure / Rate \n",
    "\n",
    "    - จำกัดจำนวน offset ต่อ batch (optional, ป้องกัน batch ใหญ่เกินไป)"
   ]
  },
  {
   "cell_type": "code",
   "execution_count": null,
   "id": "7fa7a913",
   "metadata": {},
   "outputs": [],
   "source": [
    "# การอ่านข้อมูลจาก Kafka\n",
    "spark_df = (spark_conn.readStream\n",
    "            .format(\"kafka\")\n",
    "            .option(\"kafka.bootstrap.servers\", \"broker:29092\")\n",
    "            .option(\"subscribe\", \"users_created\")\n",
    "            .option(\"startingOffsets\", \"earliest\")\n",
    "            .option(\"maxOffsetsPerTrigger\", 1000)  # อ่านทีละ 1000 records\n",
    "            .load())"
   ]
  },
  {
   "cell_type": "markdown",
   "id": "9db5ab1a",
   "metadata": {},
   "source": [
    "- ถ้า data ไหลเร็วมาก จะช่วยควบคุมว่า Spark จะไม่ดึงเยอะเกินไป → batch นึงจะดึงได้สูงสุด 1000 record"
   ]
  },
  {
   "cell_type": "markdown",
   "id": "cd203685",
   "metadata": {},
   "source": [
    "##### 3️⃣ Upsert / TTL ใน Cassandra"
   ]
  },
  {
   "cell_type": "markdown",
   "id": "2474c3f3",
   "metadata": {},
   "source": [
    "- ถ้าไม่จำเป็นต้องเก็บทุก record → ใช้ TTL (Time-to-Live)\n",
    "\n",
    "- หรือใช้ upsert แทน insert แบบไม่ซ้ำ (key conflicts)\n",
    "\n",
    "- ช่วยลด data accumulation"
   ]
  },
  {
   "cell_type": "markdown",
   "id": "d41e4ff2",
   "metadata": {},
   "source": [
    "##### 4️⃣ Checkpoint & Restart Safety"
   ]
  },
  {
   "cell_type": "markdown",
   "id": "a7cc1716",
   "metadata": {},
   "source": [
    "- ตั้ง `checkpointLocation` เพื่อให้ Spark รู้ว่าข้อมูล batch ไหนถูกเขียนแล้ว\n",
    "\n",
    "- สำคัญมากกับ Realtime Streaming → DB\n",
    "\n",
    "- หาก Spark หยุด/Restart จะไม่เขียนซ้ำ"
   ]
  },
  {
   "cell_type": "markdown",
   "id": "3760045c",
   "metadata": {},
   "source": [
    "##### 5️⃣ Partitioning / Parallelism"
   ]
  },
  {
   "cell_type": "markdown",
   "id": "d574af87",
   "metadata": {},
   "source": [
    "- Cassandra รองรับ write ที่กระจายไปหลาย partition\n",
    "\n",
    "- ปรับ Spark partition ให้ match Cassandra partition key → ลด hotspot"
   ]
  },
  {
   "cell_type": "markdown",
   "id": "68497141",
   "metadata": {},
   "source": [
    "##### 💡 สรุป:\n",
    "\n",
    "- อย่าให้ stream รันแบบ “รัว ๆ ทุก record” โดยตรง\n",
    "\n",
    "- ตั้ง trigger interval + maxOffsetsPerTrigger\n",
    "\n",
    "- ใช้ checkpoint + TTL ใน Cassandra\n",
    "\n",
    "- ออกแบบ schema และ partition ให้เหมาะกับ high throughput"
   ]
  },
  {
   "cell_type": "markdown",
   "id": "8746ce41",
   "metadata": {},
   "source": [
    "### **Data Quality Checks (DQC) หรือ Data Validation**\n",
    "\n",
    "- เวลาทำ Realtime ETL แล้ว transform เลย เรื่อง EDA + data quality จะเปลี่ยนวิธีคิดนิดไม่เหมือน Batch"
   ]
  },
  {
   "cell_type": "markdown",
   "id": "4bbbf5b5",
   "metadata": {},
   "source": [
    "##### 🔹 Batch ETL + EDA (แบบปกติ)"
   ]
  },
  {
   "cell_type": "markdown",
   "id": "25943f99",
   "metadata": {},
   "source": [
    "- ดึงข้อมูลมาเยอะ ๆ ทีหลัง\n",
    "\n",
    "- ทำ EDA เต็มรูปแบบ เช่นหาค่า missing, distribution, outlier, correlation\n",
    "\n",
    "- เพราะมี dataset ก้อนใหญ่ให้วิเคราะห์"
   ]
  },
  {
   "cell_type": "markdown",
   "id": "45a8dbbd",
   "metadata": {},
   "source": [
    "##### 🔹 Realtime ETL + Transform ทันที"
   ]
  },
  {
   "cell_type": "markdown",
   "id": "ab0ced8a",
   "metadata": {},
   "source": [
    "- ไม่ค่อยมีโอกาสทำ EDA ทุกครั้ง เพราะ data ไหลเข้ามาเป็น stream\n",
    "\n",
    "- สิ่งที่ทำแทนคือ Data Quality Checks (DQC) หรือ Data Validation แบบ real-time"
   ]
  },
  {
   "cell_type": "markdown",
   "id": "30f5438a",
   "metadata": {},
   "source": [
    "### **รูปแบบ API ในการทำ Streaming**"
   ]
  },
  {
   "cell_type": "markdown",
   "id": "e4852444",
   "metadata": {},
   "source": [
    "#### 🔹 ปกติ API ที่เป็น Streaming มี 3 รูปแบบหลัก"
   ]
  },
  {
   "cell_type": "markdown",
   "id": "ee65ae5e",
   "metadata": {},
   "source": [
    "**1. Long-lived HTTP connection (HTTP Streaming / SSE – Server-Sent Events)**\n",
    "\n",
    "- คุณยิง request ไปครั้งเดียว → connection ไม่ปิด → server จะ push ข้อมูลใหม่มาเรื่อย ๆ\n",
    "\n",
    "- เช่น Twitter Streaming API (เก่า), หรือพวก Stock market feed, IoT sensor data\n",
    "\n",
    "- Python/Java สามารถเปิด connection ค้างไว้ แล้ว loop อ่านข้อมูลเป็น record ต่อ record"
   ]
  },
  {
   "cell_type": "markdown",
   "id": "b7639772",
   "metadata": {},
   "source": [
    "**2. WebSocket API**\n",
    "\n",
    "- สร้าง 2-way connection → client/server ส่งข้อความหากันได้ตลอด\n",
    "\n",
    "- นิยมกับ real-time เช่น Chat, Crypto price feed, Game server\n",
    "\n",
    "- library อย่าง `websockets` (Python), หรือ `socket.io`"
   ]
  },
  {
   "cell_type": "markdown",
   "id": "a2ea09bd",
   "metadata": {},
   "source": [
    "**3. Polling API (simulate streaming)**\n",
    "\n",
    "- ไม่มี streaming ให้ → client ต้อง call REST API ซ้ำ ๆ (เช่นทุก 1 วิ/10 วิ)\n",
    "\n",
    "- ได้ผลเหมือน “stream” แต่อยู่ในรูป micro-batch\n",
    "\n",
    "- ตรงนี้แหละที่บางคนใช้ Airflow หรือ Cron jobs คุมรอบเวลา"
   ]
  },
  {
   "cell_type": "markdown",
   "id": "b92bdb4e",
   "metadata": {},
   "source": [
    "#### 🔹 สรุป\n",
    "\n",
    "- **REST API (ปกติ)** → ไม่มีการส่งข้อมูลต่อเนื่องมาเอง \n",
    "    - → ถ้าอยากได้ข้อมูล real-time ต้อง ทำ polling (ดึงเองเป็นรอบ ๆ) เช่น ทุก ๆ 1 นาที, 5 นาที \n",
    "    - → ตรงนี้แหละที่ Airflow เหมาะ เพราะ Airflow = scheduler ที่ดีสำหรับ batch/micro-batch\n",
    "\n",
    "- **Streaming API (แท้ ๆ เช่น WebSocket, gRPC stream, SSE, MQTT)** → connect ไว้ข้อมูลจะ push มาเองแบบ sensor feed \n",
    "    - → ไม่ต้องผ่าน Airflow เพราะไม่ได้ออกแบบมา run loop แบบนี้ ยิงเข้ามาที่ kafka ได้เลย \n",
    "    - → ปกติใช้ Spark Structured Streaming, Flink, Kafka Consumer หรือ custom daemon script แทน"
   ]
  },
  {
   "cell_type": "markdown",
   "id": "2885b1c3",
   "metadata": {},
   "source": [
    "##### ✅ Pattern ที่เจอในงานจริง"
   ]
  },
  {
   "cell_type": "markdown",
   "id": "827a3c43",
   "metadata": {},
   "source": [
    "**1. REST API + Airflow**\n",
    "\n",
    "- Airflow operator ดึงข้อมูลทุก 1 นาที\n",
    "\n",
    "- เก็บลง storage (เช่น Cassandra, BigQuery, S3, Postgres)\n",
    "\n",
    "- เหมาะกับ micro-batch"
   ]
  },
  {
   "cell_type": "markdown",
   "id": "59ea28f6",
   "metadata": {},
   "source": [
    "**2. Streaming API + Spark/Kafka**\n",
    "\n",
    "- Spark structured streaming ต่อ WebSocket → push เข้า Kafka → consumer เก็บลง DB\n",
    "\n",
    "- เหมาะกับ real-time"
   ]
  },
  {
   "cell_type": "markdown",
   "id": "6c1caa0d",
   "metadata": {},
   "source": [
    "**3. Hybrid**\n",
    "\n",
    "- API ไม่มี streaming ให้ → ใช้ polling (Airflow หรือ Spark Structured Streaming + foreachBatch())\n",
    "\n",
    "- API มี streaming ให้ → ใช้ Spark/Kafka, แต่ยัง schedule งาน downstream ด้วย Airflow"
   ]
  }
 ],
 "metadata": {
  "language_info": {
   "name": "python"
  }
 },
 "nbformat": 4,
 "nbformat_minor": 5
}
