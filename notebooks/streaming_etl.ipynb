{
 "cells": [
  {
   "cell_type": "markdown",
   "metadata": {},
   "source": [
    "## **Real Time Data Engineering Projects**"
   ]
  },
  {
   "cell_type": "markdown",
   "metadata": {},
   "source": [
    "> โปรเจกต์นี้ออกแบบมาให้เป็นแนวทางแบบครบวงจร (end-to-end) สำหรับการสร้าง data engineering pipeline ตั้งแต่ขั้นตอน ingestion, streaming, processing ไปจนถึงการจัดเก็บข้อมูล โดยใช้โครงสร้างพื้นฐานที่เน้น real-time processing และ containerized deployment"
   ]
  },
  {
   "cell_type": "markdown",
   "metadata": {},
   "source": [
    "#### **สถาปัตยกรรมระบบ (System Architecture)**\n",
    "\n",
    "มี component หลักดังนี้:\n",
    "\n",
    "- **Data Source**: ดึงข้อมูลจาก API เช่น randomuser.me เพื่อใช้เป็นข้อมูลจำลอง (dummy data) \n",
    "\n",
    "- **Apache Airflow**: ทำหน้าที่ orchestration ของ pipeline และเก็บข้อมูลที่ fetch เข้าไว้ใน PostgreSQL \n",
    "\n",
    "- **Kafka + Zookeeper**: ใช้สำหรับ streaming ข้อมูลจาก PostgreSQL ไปยัง processing engine \n",
    "\n",
    "- **Control Center & Schema Registry**: สำหรับดูแล schema และ monitoring Kafka streams \n",
    "\n",
    "- **Apache Spark**: ใช้ประมวลผลข้อมูล (stream processing) ผ่าน cluster (master/worker nodes) \n",
    "\n",
    "- **Cassandra**: ใช้เก็บข้อมูลหลังผ่านการประมวลผล"
   ]
  },
  {
   "cell_type": "markdown",
   "metadata": {
    "vscode": {
     "languageId": "plaintext"
    }
   },
   "source": [
    "#### **เทคโนโลยีที่ใช้**"
   ]
  },
  {
   "cell_type": "markdown",
   "metadata": {},
   "source": [
    "- Orchestration: Apache Airflow\n",
    "\n",
    "- Streaming: Apache Kafka & Zookeeper\n",
    "\n",
    "- Processing: Apache Spark\n",
    "\n",
    "- Storage: PostgreSQL (ก่อนประมวลผล), Cassandra (หลังประมวลผล)\n",
    "\n",
    "- Containerization: Docker"
   ]
  },
  {
   "cell_type": "markdown",
   "metadata": {},
   "source": [
    "#### 📌 **Kafka พื้นฐาน (สำหรับ Data Engineer)**"
   ]
  },
  {
   "cell_type": "markdown",
   "metadata": {},
   "source": [
    "##### **1. Kafka คืออะไร?**\n",
    "\n",
    "- Kafka = ระบบ distributed event streaming platform\n",
    "  → ใช้สำหรับส่ง, เก็บ และประมวลผลข้อมูลแบบ real-time\n",
    "\n",
    "- มันทำตัวเหมือน message broker (ท่อข้อมูลกลาง)\n",
    "\n",
    "- ใช้กันเยอะในงาน real-time analytics, log streaming, data pipeline"
   ]
  },
  {
   "cell_type": "markdown",
   "metadata": {},
   "source": [
    "##### **2. แนวคิดหลัก (Concepts)**\n",
    "\n",
    "ลองคิดเป็น \"ห้อง chat\" 👇\n",
    "\n",
    "- **Producer** → คนพิมพ์ข้อความ (ส่งข้อมูลเข้าไปใน Kafka)\n",
    "\n",
    "- **Consumer** → คนอ่านข้อความ (ดึงข้อมูลออกมาใช้)\n",
    "\n",
    "- **Topic** → ห้องสนทนา (channel ที่ใช้ส่ง/รับข้อมูล)\n",
    "\n",
    "- **Broker** → Server ของ Kafka ที่เก็บ topic\n",
    "\n",
    "- **Cluster** → กลุ่ม broker หลายๆ ตัว\n",
    "\n",
    "- **Partition** → การแบ่ง topic ออกเป็นส่วนๆ เพื่อ scale (แต่ละ partition คือท่อแยก)\n",
    "\n",
    "- **Offset** → เลขบอกลำดับของ message ใน partition\n",
    "\n",
    "👉 Keyword: Publish–Subscribe system\n",
    "Producer ยิงข้อมูล → Kafka → Consumer อ่านข้อมูล"
   ]
  },
  {
   "cell_type": "markdown",
   "metadata": {},
   "source": [
    "##### **3. Kafka Data Flow**\n",
    "\n",
    "1. Producer สร้าง event → ส่งไปที่ Kafka topic\n",
    "\n",
    "2. Kafka เก็บ event ไว้ใน log แบบ append-only\n",
    "\n",
    "3. Consumer subscribe topic → อ่าน event ตามลำดับ offset\n",
    "\n",
    "4. Data ถูก process หรือส่งต่อไป DB, Data Lake, Dashboard"
   ]
  },
  {
   "cell_type": "markdown",
   "metadata": {},
   "source": [
    "#### **เริ่มต้นโปรเจ็ค**"
   ]
  },
  {
   "cell_type": "markdown",
   "metadata": {
    "vscode": {
     "languageId": "plaintext"
    }
   },
   "source": [
    "ตรวจสอบ version ของ Python และ Spark ที่จาก Docker Container"
   ]
  },
  {
   "cell_type": "code",
   "execution_count": null,
   "metadata": {},
   "outputs": [],
   "source": [
    "!python3 --version\n",
    "!spark-submit --version"
   ]
  },
  {
   "cell_type": "markdown",
   "metadata": {},
   "source": [
    "##### 1. สร้าง Mock Streaming data จาก API"
   ]
  },
  {
   "cell_type": "markdown",
   "metadata": {},
   "source": [
    "ดึงค่าจาก API"
   ]
  },
  {
   "cell_type": "code",
   "execution_count": null,
   "metadata": {},
   "outputs": [],
   "source": [
    "import requests\n",
    "\n",
    "def get_data():\n",
    "    # ดึงข้อมูล Random User\n",
    "    res = requests.get(\"https://randomuser.me/api/\") # เวลาดึง data มาจะไม่เหมือนกัน\n",
    "    res = res.json() # แปลงจาก json เป็น dict\n",
    "    res = res['results'][0]\n",
    "\n",
    "    return res\n"
   ]
  },
  {
   "cell_type": "code",
   "execution_count": null,
   "metadata": {},
   "outputs": [],
   "source": [
    "import json\n",
    "\n",
    "print(json.dumps(get_data(), indent=3))"
   ]
  },
  {
   "cell_type": "markdown",
   "metadata": {},
   "source": [
    "จัดรูปแบบตามที่ต้องการ"
   ]
  },
  {
   "cell_type": "code",
   "execution_count": null,
   "metadata": {},
   "outputs": [],
   "source": [
    "import uuid\n",
    "\n",
    "def format_data(res):\n",
    "    # จัดรูปแบบข้อมูล\n",
    "    data = {}\n",
    "    location = res['location']\n",
    "    data['id'] = str(uuid.uuid4())\n",
    "    data['first_name'] = res['name']['first']\n",
    "    data['last_name'] = res['name']['last']\n",
    "    data['gender'] = res['gender']\n",
    "    data['address'] = f\"{str(location['street']['number'])} {location['street']['name']}, \" \\\n",
    "                      f\"{location['city']}, {location['state']}, {location['country']}\"\n",
    "    data['post_code'] = location['postcode']\n",
    "    data['email'] = res['email']\n",
    "    data['username'] = res['login']['username']\n",
    "    data['dob'] = res['dob']['date']\n",
    "    data['registered_date'] = res['registered']['date']\n",
    "    data['phone'] = res['phone']\n",
    "    data['picture'] = res['picture']['medium']\n",
    "\n",
    "    print(data)\n",
    "\n",
    "    return data"
   ]
  },
  {
   "cell_type": "code",
   "execution_count": null,
   "metadata": {},
   "outputs": [],
   "source": [
    "format_data(get_data())"
   ]
  },
  {
   "cell_type": "markdown",
   "metadata": {},
   "source": [
    "Mock Api Streaming Data"
   ]
  },
  {
   "cell_type": "code",
   "execution_count": null,
   "metadata": {},
   "outputs": [],
   "source": [
    "def stream_data():\n",
    "    import json\n",
    "    from kafka import KafkaProducer\n",
    "    import time\n",
    "    import logging\n",
    "\n",
    "    producer = KafkaProducer(bootstrap_servers=['broker:29092'], max_block_ms=5000) # สร้าง KafkaProducer เพื่อส่งช้อมูลไปใน Kafka Boker\n",
    "    curr_time = time.time() # real time\n",
    "\n",
    "    while True:\n",
    "        if time.time() > curr_time + 10: # 1 minute\n",
    "            break\n",
    "        try:\n",
    "            res = get_data()\n",
    "            res = format_data(res)\n",
    "\n",
    "            print(res)\n",
    "            producer.send('users_created', json.dumps(res).encode('utf-8')) # ส่ง res ที่เป็น json ไปให้ boker\n",
    "        except Exception as e:\n",
    "            logging.error(f'An error occured: {e}')\n",
    "            continue"
   ]
  },
  {
   "cell_type": "code",
   "execution_count": null,
   "metadata": {},
   "outputs": [],
   "source": [
    "# Function Streaming Data from API\n",
    "stream_data()"
   ]
  },
  {
   "cell_type": "markdown",
   "metadata": {},
   "source": [
    "#### **ETL (Extract, Transform, Load) แบบ Real-time** "
   ]
  },
  {
   "cell_type": "markdown",
   "metadata": {},
   "source": [
    "โดยมีหน้าที่หลักคือ ดึงข้อมูลผู้ใช้ (user) ที่ถูกส่งเข้ามาใน Kafka อย่างต่อเนื่อง, แปลงข้อมูลให้อยู่ในรูปแบบที่ถูกต้อง, แล้วบันทึกลงในฐานข้อมูล Cassandra"
   ]
  },
  {
   "cell_type": "code",
   "execution_count": null,
   "metadata": {},
   "outputs": [],
   "source": [
    "import logging\n",
    "from cassandra.cluster import Cluster\n",
    "from pyspark.sql import SparkSession\n",
    "from pyspark.sql.functions import from_json, col\n",
    "from pyspark.sql.types import StructType, StructField, StringType\n",
    "\n",
    "# ตั้งค่า logging\n",
    "logging.basicConfig(\n",
    "    level=logging.INFO,\n",
    "    format='%(asctime)s - %(levelname)s - %(message)s'\n",
    ")\n"
   ]
  },
  {
   "cell_type": "code",
   "execution_count": null,
   "metadata": {},
   "outputs": [],
   "source": [
    "# ฟังก์ชันสร้างการเชื่อมต่อกับ Spark\n",
    "def create_spark_connection():\n",
    "    s_conn = None\n",
    "\n",
    "    try:\n",
    "        s_conn = (SparkSession.builder \n",
    "            .appName('SparkDataStreaming') \n",
    "            .config('spark.jars.packages', # โหลดแพคเกจสำหรับ Spark\n",
    "                    \"com.datastax.spark:spark-cassandra-connector_2.12:3.5.0,\" # โหลดแพคเกจสำหรับเชื่อมต่อกับ Cassandra\n",
    "                    \"org.apache.spark:spark-sql-kafka-0-10_2.12:3.5.1\") # โหลดแพคเกจสำหรับเชื่อมต่อกับ Kafka \n",
    "            .config('spark.cassandra.connection.host', 'localhost') # กำหนดที่อยู่การเชื่อมต่อกับ Cassandra\n",
    "            .getOrCreate())\n",
    "        \n",
    "        s_conn.sparkContext.setLogLevel(\"ERROR\")\n",
    "        logging.info(\"Spark connection created successfully!\")\n",
    "    except Exception as e:\n",
    "        logging.error(f\"Couldn't create the spark session due to exception {e}\")\n",
    "\n",
    "    return s_conn"
   ]
  },
  {
   "cell_type": "code",
   "execution_count": null,
   "metadata": {},
   "outputs": [],
   "source": [
    "# ฟังก์ชันการเชื่อมต่อกับ Kafka\n",
    "def connect_to_kafka(spark_conn):\n",
    "    spark_df = None\n",
    "    try:\n",
    "        spark_df = (spark_conn.readStream \\\n",
    "            .format('kafka') \\\n",
    "            .option('kafka.bootstrap.servers', 'broker:29092') # กำหนดที่อยู่การเชื่อมต่อกับ Kafka Broker\n",
    "            .option('subscribe', 'users_created') # กำหนดชื่อของ Kafka Topic ที่จะดึงข้อมูลมา\n",
    "            .option('startingOffsets', 'earliest') # กำหนดว่าจะดึงข้อมูลจากเริ่มต้นหรือไม่ earliest (อ่านจากที่เริ่มต้น) หรือ latest (อ่านจากข้อมูลที่เข้ามาล่าสุด)\n",
    "            .option(\"maxOffsetsPerTrigger\", 100)  # อ่านทีละ 50 records\n",
    "            .load())\n",
    "        logging.info(\"kafka dataframe created successfully\")\n",
    "    except Exception as e:\n",
    "        logging.warning(f\"kafka dataframe could not be created because: {e}\")\n",
    "\n",
    "    return spark_df"
   ]
  },
  {
   "cell_type": "code",
   "execution_count": null,
   "metadata": {},
   "outputs": [],
   "source": [
    "# ฟังก์ชันสร้างการเชื่อมต่อกับ Cassandra\n",
    "def create_cassandra_connection():\n",
    "    try:\n",
    "        # connecting to the cassandra cluster\n",
    "        cluster = Cluster(contact_points=['cassandra'], port=9042) # กำหนดที่อยู่ hostname การเชื่อมต่อกับ Cassandra\n",
    "        cas_session = cluster.connect() # สร้างการเชื่อมต่อ\n",
    "\n",
    "        logging.info(\"Connected to Cassandra!\")\n",
    "        return cas_session\n",
    "    except Exception as e:\n",
    "        logging.error(f\"Could not create cassandra connection due to {e}\")\n",
    "        return None"
   ]
  },
  {
   "cell_type": "code",
   "execution_count": null,
   "metadata": {},
   "outputs": [],
   "source": [
    "def create_keyspace(session):\n",
    "    # สร้าง Database / Schema บน Cassandra เรียกว่า Keyspace\n",
    "    session.execute(\"\"\"\n",
    "        CREATE KEYSPACE IF NOT EXISTS spark_streams\n",
    "        WITH replication = {'class': 'SimpleStrategy', 'replication_factor': '1'};\n",
    "    \"\"\")\n",
    "\n",
    "    print(\"Keyspace created successfully!\")"
   ]
  },
  {
   "cell_type": "code",
   "execution_count": null,
   "metadata": {},
   "outputs": [],
   "source": [
    "def create_table(session):\n",
    "    # สร้าง Table\n",
    "    session.execute(\"\"\"\n",
    "    CREATE TABLE IF NOT EXISTS spark_streams.created_users (\n",
    "        id UUID PRIMARY KEY,\n",
    "        first_name TEXT,\n",
    "        last_name TEXT,\n",
    "        gender TEXT,\n",
    "        address TEXT,\n",
    "        post_code TEXT,\n",
    "        email TEXT,\n",
    "        username TEXT,\n",
    "        registered_date TEXT,\n",
    "        phone TEXT,\n",
    "        picture TEXT) WITH default_time_to_live = 1200;\n",
    "    \"\"\")\n",
    "\n",
    "    print(\"Table created successfully!\")"
   ]
  },
  {
   "cell_type": "code",
   "execution_count": null,
   "metadata": {},
   "outputs": [],
   "source": [
    "# ฟังก์ชันประมวลผลข้อมูลด้วย Spark และ Data Quality Checks\n",
    "def create_selection_df_from_kafka(spark_df):\n",
    "    \"\"\"\n",
    "    แปลงข้อมูลจาก Kafka เป็น Spark DataFrame และทำ Data Quality Checks\n",
    "    - Schema Enforcement\n",
    "    - Missing Value Check\n",
    "    - Business Rule Validation (regex, allowed values)\n",
    "    - Deduplication\n",
    "    - ส่งข้อมูลไม่ผ่าน validation ไป Dead-letter topic (optional)\n",
    "    \n",
    "    Args:\n",
    "        spark_df: input streaming DataFrame จาก Kafka\n",
    "        kafka_producer_invalid: KafkaProducer สำหรับส่งข้อมูล invalid (optional)\n",
    "    \n",
    "    Returns:\n",
    "        validated_df: Spark DataFrame พร้อมส่งต่อ (validated)\n",
    "    \"\"\"\n",
    "    # -------------------- 1. Define Schema --------------------\n",
    "    # กำหนดโครงสร้างข้อมูลที่จะนำเข้า\n",
    "    schema = StructType([\n",
    "        StructField(\"id\", StringType(), False),\n",
    "        StructField(\"first_name\", StringType(), False),\n",
    "        StructField(\"last_name\", StringType(), False),\n",
    "        StructField(\"gender\", StringType(), False),\n",
    "        StructField(\"address\", StringType(), False),\n",
    "        StructField(\"post_code\", StringType(), False),\n",
    "        StructField(\"email\", StringType(), False),\n",
    "        StructField(\"username\", StringType(), False),\n",
    "        StructField(\"registered_date\", StringType(), False),\n",
    "        StructField(\"phone\", StringType(), False),\n",
    "        StructField(\"picture\", StringType(), False)\n",
    "    ])\n",
    "\n",
    "    # -------------------- 2. Parse JSON and Enforce Schema --------------------\n",
    "    # ดึงและแปลงข้อมูลจาก kafka เป็น Spark DataFrame \n",
    "    df = (spark_df.selectExpr(\"CAST(value AS STRING)\") # เลือกเฉพาะคอลัมน์ value แปลงเป็น String \n",
    "        .select(from_json(col('value'), schema).alias('data')).select(\"data.*\")) # อ่านข้อมูลจาก json ที่เป็น value และจัดข้อมูลตาม schema\n",
    "    logging.info(\"Schema applied and JSON parsed.\")\n",
    "\n",
    "    # -------------------- 3. Missing Value Check --------------------\n",
    "    df_non_null = df.dropna(subset=[\"id\", \"email\", \"registered_date\"]) # ลบตัวที่มีค่าเป็น null ใน col พวกนี้\n",
    "    logging.info(\"Dropped records with null id, email, or registered_date.\")\n",
    "\n",
    "    # -------------------- 4. Business Rule Validation --------------------\n",
    "    df_valid = df_non_null.filter( # filter แค่ค่าที่ตรงตาม regex ตามแบบนี้\n",
    "        col(\"email\").rlike(r\".+@.+\\..+\") & # รูปแบบของ email pattern\n",
    "        col(\"gender\").isin(\"male\", \"female\") & # จะมีแค่ 2 ค่านี้เท่านั้น\n",
    "        col(\"id\").rlike(\"^[0-9a-fA-F]{8}-[0-9a-fA-F]{4}-[0-9a-fA-F]{4}-[0-9a-fA-F]{4}-[0-9a-fA-F]{12}$\")\n",
    "    )\n",
    "    logging.info(\"Applied business rule validation.\")\n",
    "\n",
    "    # -------------------- 5. Deduplicate --------------------\n",
    "    df_deduped = df_valid.dropDuplicates([\"id\"]) # ลบแถวที่มี id ซ้ำกัน\n",
    "    logging.info(\"Deduplicated based on id.\")\n",
    "\n",
    "    return df_deduped"
   ]
  },
  {
   "cell_type": "code",
   "execution_count": null,
   "metadata": {},
   "outputs": [],
   "source": [
    "# create spark connection\n",
    "spark_conn = create_spark_connection() # สร้างการเชื่อมต่อกับ Spark\n",
    "\n",
    "if spark_conn is not None:\n",
    "        # connect to kafka with spark connection\n",
    "        spark_df = connect_to_kafka(spark_conn) # สร้างการเชื่อมต่อกับ Kafka\n",
    "        selection_df = create_selection_df_from_kafka(spark_df) # ดึงข้อมูลจาก Kafka\n",
    "        session = create_cassandra_connection() # สร้างการเชื่อมต่อกับ Cassandra\n",
    "\n",
    "        # Testing Data Flow on Console\n",
    "        # query = (selection_df\n",
    "        #  .writeStream\n",
    "        #  .format(\"console\")\n",
    "        #  .outputMode(\"append\")\n",
    "        #  .start())\n",
    "\n",
    "        # query.awaitTermination(30) # หน่วงเวลา 30s ให้ query data\n",
    "        # query.stop() # stop streaming query หลัง 30s\n",
    "\n",
    "        if session is not None:\n",
    "            create_keyspace(session) # สร้าง Database / Schema บน Cassandra เรียกว่า Keyspace\n",
    "            create_table(session) # สร้าง Table\n",
    "\n",
    "            logging.info(\"Streaming is being started...\")\n",
    "\n",
    "            # เขียนข้อมูลลง Database\n",
    "            streaming_query = (selection_df.writeStream\n",
    "                               .format(\"org.apache.spark.sql.cassandra\")\n",
    "                               .option('checkpointLocation', '/tmp/checkpoint')\n",
    "                               .option('keyspace', 'spark_streams')\n",
    "                               .option('table', 'created_users')\n",
    "                               .option(\"spark.cassandra.connection.host\", \"cassandra\")\n",
    "                               .option(\"spark.cassandra.connection.port\", \"9042\")\n",
    "                               .option(\"spark.cassandra.connection.local_dc\", \"datacenter1\")\n",
    "                               .trigger(processingTime=\"10 seconds\") # เขียนค่าทุกๆ 10 วินาที\n",
    "                               .start())\n",
    "\n",
    "            streaming_query.awaitTermination(30) # ให้หยุดแล้ว query data\n",
    "            streaming_query.stop()"
   ]
  }
 ],
 "metadata": {
  "kernelspec": {
   "display_name": "Python 3 (ipykernel)",
   "language": "python",
   "name": "python3"
  },
  "language_info": {
   "codemirror_mode": {
    "name": "ipython",
    "version": 3
   },
   "file_extension": ".py",
   "mimetype": "text/x-python",
   "name": "python",
   "nbconvert_exporter": "python",
   "pygments_lexer": "ipython3",
   "version": "3.11.6"
  }
 },
 "nbformat": 4,
 "nbformat_minor": 4
}
